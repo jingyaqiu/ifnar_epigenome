{
 "cells": [
  {
   "cell_type": "markdown",
   "metadata": {},
   "source": [
    "## Processing B16 R499 Stat1KO RNA-seq data\n",
    "\n",
    "**Updated 04/30/20**\n",
    "\n",
    "Conditions (n=16): B16_cas, B16_SKO, R499_cas, R499_SKO\n",
    "\n",
    "1. Trim adapter sequences\n",
    "2. Quantify with salmon\n",
    "3. Generate normalized count matrix\n",
    "\n",
    "We don't use STAR alignments for normal quantification. To quantify TEs, run STAR with optimized multimapping parameters for TEtranscripts. Squire does its own alignment for TE quantification.\n",
    "\n",
    "**Processed data** <br>\n",
    "- Normalized count matrix: ~/Dropbox/Minn/ATAC_RNA_integration/mRFAR_v5/rna.dat_mRFAR_v5.txt\n",
    "- RNA annotations: ~/Dropbox/Minn/ATAC_RNA_integration/mRFAR_v5/rna.anno_mRFAR_v5.txt\n",
    "- DESeq2 results: ~/Dropbox/Minn/ATAC_RNA_integration/mRFAR_v5/dds_mRFAR_v5.rds\n",
    "- STAR-mapped bigwig files: /home/jingyaq/Minn/data/B16_R499_Stat1KO_RNA/data/aligned/merged/bigwig/\n",
    "- Unique reads only (for TE analysis): \n"
   ]
  },
  {
   "cell_type": "markdown",
   "metadata": {},
   "source": [
    "### fastQC\n",
    "\n",
    "FastQC version 0.11.5 <br>\n",
    "multiqc version 1.8\n",
    "\n",
    "fastq files located at: /home/jingyaq/Minn/data/B16_R499_Stat1KO_RNA/data/fastq/ <br>\n",
    "\n",
    "QC files located at: <br>\n",
    "/home/jingyaq/Minn/data/B16_R499_Stat1KO_RNA/data/fastq/fastqc/ <br>\n",
    "/Users/jingyaqiu/Dropbox/Minn/B16_R499_Stat1KO_RNA/data/fastqc/\n",
    "\n",
    "Looks like no adapter contamination, but trim to be safe."
   ]
  },
  {
   "cell_type": "code",
   "execution_count": null,
   "metadata": {},
   "outputs": [],
   "source": [
    "cd /home/jingyaq/Minn/data/B16_R499_Stat1KO_RNA/data/fastq\n",
    "mkdir fastqc\n",
    "\n",
    "for file in *fastq.gz;  do /home/jingyaq/FastQC/fastqc $file -o fastqc; done\n",
    "\n",
    "export PATH=\"/home/jingyaq/anaconda3-new/bin:$PATH\"\n",
    "multiqc fastqc\n",
    "mv multiqc* fastqc"
   ]
  },
  {
   "cell_type": "markdown",
   "metadata": {},
   "source": [
    "### Trim adapter sequences\n",
    "\n",
    "cutadapt version 2.9\n",
    "\n",
    "Trim reads with adapter contamination on 3' ends\n",
    "- -m 5 - discard reads shorter than 5 bp (30 for RNA, 5 for ATAC)\n",
    "- -e 0.2 - maximum tolerated error rate when searching for adapter sequence (20%)\n",
    "- -q 10 - trim low-quality ends (phred < +33)\n",
    "- -O 5 - minimum overlap length between read and adapter for adapter to be found\n",
    "\n",
    "RNA adapters: <br>\n",
    "R1 - AGATCGGAAGAGCACACGTCTGAACTCCAGTCAC <br>\n",
    "R2 - AGATCGGAAGAGCGTCGTGTAGGGAAAGAGTGT\n",
    "\n",
    "fastq files located at: <br>\n",
    "/home/jingyaq/Minn/data/B16_R499_Stat1KO_RNA/data/fastq/fastq_trimmed/\n",
    "\n",
    "**FASTQ FILES MUST BE IN THE FORM: PREFIX.R1.FASTQ.GZ - FIRST \".\" HAS TO SEPARATE PREFIX AND R1!**"
   ]
  },
  {
   "cell_type": "code",
   "execution_count": null,
   "metadata": {},
   "outputs": [],
   "source": [
    "cd /home/jingyaq/Minn/data/B16_R499_Stat1KO_RNA/data/fastq\n",
    "mkdir fastq_trimmed\n",
    "\n",
    "python /home/jingyaq/Minn/processing_scripts/cutadapt_jobScripts.py AGATCGGAAGAGCACACGTCTGAACTCCAGTCAC AGATCGGAAGAGCGTCGTGTAGGGAAAGAGTGT 30\n",
    "\n",
    "grep -rnw *.out -e \"Successfully\" | wc -l\n",
    "rm *.out *.err\n",
    "\n",
    "### QC trimmed reads ###\n",
    "\n",
    "cd /home/jingyaq/Minn/data/B16_R499_Stat1KO_RNA/data/fastq/fastq_trimmed/\n",
    "mkdir fastqc\n",
    "for file in *fastq.gz;  do /home/jingyaq/FastQC/fastqc $file -o fastqc; done\n",
    "export PATH=\"/home/jingyaq/anaconda3-new/bin:$PATH\"\n",
    "multiqc fastqc\n",
    "mv multiqc* fastqc"
   ]
  },
  {
   "cell_type": "markdown",
   "metadata": {},
   "source": [
    "### Quantification with salmon\n",
    "\n",
    "**Run on 09/12/2018!!**\n",
    "\n",
    "salmon version 0.13.1\n",
    "\n",
    "Reference transcriptome located at: /home/jingyaq/Minn/references/GRCm38/gencode.GRCm38.p6.vmM18.transcripts.fa.gz\n",
    "Salmon index located at: /home/jingyaq/Minn/resources/salmon/GRCm38.p6_index\n",
    "\n",
    "Parameters:\n",
    "- --libType A - automatically infer library type\n",
    "- --validateMappings - use a more sensitive and accurate mapping algorithm\n",
    "- --rangeFactorizationBins 4 - likelihood factorization, can improve quantification accuracy on a class of \"difficult\" transcripts\n",
    "- --numBootstraps 3 - compute bootstrapped abundance estimates. More accurate estimate of variance, but more computation and time required\n",
    "- --seqBias - learn and correct for sequence-specific biases (random hexamer priming)\n",
    "- --gcBias - learn and correct for fragment-level GC biases\n",
    "\n",
    "https://salmon.readthedocs.io/en/latest/salmon.html\n",
    "\n",
    "Output saved at: <br>\n",
    "/home/jingyaq/Minn/data/B16_R499_Stat1KO_RNA/data/counts/salmon/"
   ]
  },
  {
   "cell_type": "markdown",
   "metadata": {},
   "source": [
    "#### Installation"
   ]
  },
  {
   "cell_type": "code",
   "execution_count": null,
   "metadata": {},
   "outputs": [],
   "source": [
    "export PATH=\"/home/jingyaq/anaconda3-new/bin:$PATH\"\n",
    "\n",
    "conda config --add channels conda-forge\n",
    "conda config --add channels bioconda\n",
    "conda create -n salmon salmon\n",
    "\n",
    "source activate salmon # Latest version 1.2.0"
   ]
  },
  {
   "cell_type": "markdown",
   "metadata": {},
   "source": [
    "#### Build index"
   ]
  },
  {
   "cell_type": "code",
   "execution_count": null,
   "metadata": {},
   "outputs": [],
   "source": [
    "# export PATH=\"/home/jingyaq/anaconda3-new/bin:$PATH\"\n",
    "# source activate salmon\n",
    "\n",
    "salmon index -t /home/jingyaq/Minn/data/B16_R499_Stat1KO_RNA/resources/gencode.GRCm38.p6.vmM18.transcripts.fa.gz -i /home/jingyaq/Minn/data/B16_R499_Stat1KO_RNA/resources/GRCm38.p6_salmon_index --gencode"
   ]
  },
  {
   "cell_type": "markdown",
   "metadata": {},
   "source": [
    "#### Non-alignment-based quantification"
   ]
  },
  {
   "cell_type": "code",
   "execution_count": null,
   "metadata": {},
   "outputs": [],
   "source": [
    "# export PATH=\"/home/jingyaq/anaconda3-new/bin:$PATH\"\n",
    "# source activate salmon\n",
    "\n",
    "python scripts/salmon_jobScripts.py"
   ]
  },
  {
   "cell_type": "markdown",
   "metadata": {},
   "source": [
    "### Generate normalized count matrix\n",
    "\n",
    "Import salmon counts, normalize with DESeq2 rlog\n",
    "\n",
    "Output count matrix: <br>\n",
    "~/Dropbox/Minn/ATAC_RNA_integration/mRFAR_v5/rna.dat_mRFAR_v5.txt"
   ]
  },
  {
   "cell_type": "code",
   "execution_count": null,
   "metadata": {},
   "outputs": [],
   "source": [
    "Rscript scripts/tximport_geneQuant.R"
   ]
  },
  {
   "cell_type": "markdown",
   "metadata": {},
   "source": [
    "### OPTIONAL: align with STAR\n",
    "\n",
    "(Only need this for TEtranscripts)\n",
    "\n",
    "Genome fasta file: STAR (manual 2.7.2b) strongly recommends \"files marked with PRI (primary)\" from GENCODE.\n",
    "\n",
    "\"It is strongly recommended to include major chromosomes (e.g., for human chr1-22,chrX,chrY,chrM,) as well as un-placed and un-localized scaffolds. Typically, un-placed/un-localized scaffolds add just a few MegaBases to the genome length, however, a substantial number of reads may map to ribosomal RNA (rRNA) repeats on these scaffolds. These reads would be reported as unmapped if the scaffolds are not included in the genome, or, even worse, may be aligned to wrong loci on the chromosomes. Generally, patches and alternative haplotypes should not be included in the genome.\"\n",
    "\n",
    "GRCm38.primary_assembly.genome.fa - this includes major chromosomes and scaffolds, but excludes assembly patches and haplotypes.\n",
    "\n",
    "GTF annotation file: STAR (manual 2.7.2b) strongly recommends the \"most comprehensive annotations for a given species\". Chromosome names in GTF and fasta files must match!!!\n",
    "gencode.vM17.chr_patch_hapl_scaff.annotation.gtf - contains comprehensive gene annotation on reference chromosomes, scaffolds, assembly patches, and alternate loci (haplotypes)\n",
    "\n",
    "Genome indices located at:\n",
    "/home/jingyaq/Minn/STAR_genome_indices/GRCm38\n",
    "\n",
    "Didn't use trimmed fastq reads!"
   ]
  },
  {
   "cell_type": "markdown",
   "metadata": {},
   "source": [
    "#### Generate index"
   ]
  },
  {
   "cell_type": "code",
   "execution_count": null,
   "metadata": {},
   "outputs": [],
   "source": [
    "bsub -M 180000 -o ~/Minn/STAR_genome_indices/output_logs/output_STAR_2.7_genomeGenerate -e ~/Minn/STAR_genome_indices/output_logs/error_STAR_2.7_genomeGenerate STAR --runThreadN 28 --runMode genomeGenerate --genomeDir ~/Minn/STAR_genome_indices/STAR_2.7.1a/GRCm38/ --genomeFastaFiles ~/Minn/references/GRCm38/GRCm38.primary_assembly.genome.fa --sjdbGTFfile ~/Minn/references/GRCm38/gencode.vM22.chr_patch_hapl_scaff.annotation.gtf --sjdbOverhang 74"
   ]
  },
  {
   "cell_type": "markdown",
   "metadata": {},
   "source": [
    "#### Run STAR"
   ]
  },
  {
   "cell_type": "code",
   "execution_count": null,
   "metadata": {},
   "outputs": [],
   "source": [
    "module load STAR/2.5.2a - B16_R499_Stat1KO_RNA\n",
    "module load STAR/2.7.1a - epi_ATAC\n",
    "\n",
    "python scripts/STAR_jobScripts.py\n",
    "python scripts/STAR_TE.py for optimizing for transposable elements recovery"
   ]
  },
  {
   "cell_type": "markdown",
   "metadata": {},
   "source": [
    "### TE quantification"
   ]
  },
  {
   "cell_type": "markdown",
   "metadata": {},
   "source": [
    "~/Dropbox/Minn/B16_R499_Stat1KO_RNA/analysis scripts/TE quantification.notebook.ipynb\n",
    "\n",
    "~/Dropbox/Minn/B16_R499_Stat1KO_RNA/analysis scripts/SQuIRE.notebook.ipynb (squire)\n",
    "~/Dropbox/Minn/epi_ATAC/scripts/TEtranscripts.notebook.ipynb (TEtranscripts)"
   ]
  }
 ],
 "metadata": {
  "kernelspec": {
   "display_name": "Python 3",
   "language": "python",
   "name": "python3"
  },
  "language_info": {
   "codemirror_mode": {
    "name": "ipython",
    "version": 3
   },
   "file_extension": ".py",
   "mimetype": "text/x-python",
   "name": "python",
   "nbconvert_exporter": "python",
   "pygments_lexer": "ipython3",
   "version": "3.7.4"
  }
 },
 "nbformat": 4,
 "nbformat_minor": 2
}
