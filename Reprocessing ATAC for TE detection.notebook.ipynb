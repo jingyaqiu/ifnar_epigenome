{
 "cells": [
  {
   "cell_type": "markdown",
   "metadata": {},
   "source": [
    "## Re-process ATAC-seq data for TE detection\n",
    "\n",
    "**3/23/20**\n",
    "\n",
    "Previously processed with ENCODE pipeline, which used Bowtie2 to align and removed multimapped reads. This would eliminate most of the TE signal, which may explain why few peaks called from the ENCODE-processed data overlap with our R499 3'UTR TEs of interest.\n",
    "\n",
    "*We also don't know if removing blacklist regions is a good idea if goal is to detect repetitive TEs. Gotta figure this out.*\n",
    "\n",
    "________________________________________________________________"
   ]
  },
  {
   "cell_type": "markdown",
   "metadata": {},
   "source": [
    "### Merge fastq technical reps\n",
    "\n",
    "Conditions: B16_cas, B16_SKO, R499_cas, R499_SKO <br>\n",
    "5 biological replicates each <br>\n",
    "3 sequencing runs each (FGC1587, FGC1609, FGC1748)\n",
    "\n",
    "fastq files stored at: <br>\n",
    "/home/jingyaq/Minn/data/B16_R499_Stat1KO_ATAC/data/fastq/merged"
   ]
  },
  {
   "cell_type": "code",
   "execution_count": null,
   "metadata": {},
   "outputs": [],
   "source": [
    "from subprocess import call\n",
    "import os\n",
    "import sys\n",
    "\n",
    "names = [\"FGC1587\", \"FGC1609\", \"FGC1748\"]\n",
    "\n",
    "conditions = [\"B16_cas\", \"B16_SKO\", \"R499_cas\", \"R499_SKO\"]\n",
    "\n",
    "for i in range(0, len(conditions)):\n",
    "    for j in range(1, 6):\n",
    "        id = conditions[i] + \"_\" + str(j)\n",
    "\n",
    "        for k in range(1, 3):\n",
    "\n",
    "            fastq1 = names[0] + \"_\" + id + \".R\" + str(k) + \".fastq.gz\"\n",
    "            fastq2 = names[1] + \"_\" + id + \".R\" + str(k) + \".fastq.gz\"\n",
    "            fastq3 = names[2] + \"_\" + id + \".R\" + str(k) + \".fastq.gz\"\n",
    "\n",
    "            out_fastq = \"merged/\" + id + \".R\" + str(k) + \".fastq.gz\"\n",
    "\n",
    "            command = \"cat \" + fastq1 + \" \" + fastq2 + \" \" + fastq3 + \" > \" + out_fastq\n",
    "\n",
    "            os.system(command)"
   ]
  },
  {
   "cell_type": "markdown",
   "metadata": {},
   "source": [
    "### Trim adapter sequences\n",
    "\n",
    "cutadapt version 2.9\n",
    "\n",
    "ATAC adapters:\n",
    "R1 - CTGTCTCTTATACACATCTCCGAGCCCACGAGAC\n",
    "R2 - CTGTCTCTTATACACATCTGACGCTGCCGACGA"
   ]
  },
  {
   "cell_type": "code",
   "execution_count": null,
   "metadata": {},
   "outputs": [],
   "source": [
    "### Install cutadapt ###\n",
    "module load python/3.6.3\n",
    "python3 -m pip install --user --upgrade cutadapt\n",
    "\n",
    "python /home/jingyaq/Minn/data/B16_R499_Stat1KO_ATAC/scripts/mRFAR_v7/v1/cutadapt_jobScripts.py\n",
    "# python ~/Dropbox/Minn/B16_R499_Stat1KO_ATAC/processing_scripts/cutadapt_jobScripts.py"
   ]
  },
  {
   "cell_type": "markdown",
   "metadata": {},
   "source": [
    "### Align with Bowtie2\n",
    "\n",
    "bowtie2 version 2.3.4.1\n",
    "\n",
    "Bowtie2 by default searches for multiple alignments, reports best one. Use standard parameter settings [--very-sensitive, --end-to-end, -p 16]. Output as sorted bam file.\n",
    "\n",
    "**For TE detection:** <br>\n",
    "Use MAPQ score (>5) to filter for \"unique\"/\"reliably mapped\" reads. <br>\n",
    "Higher mapping quality = more \"unique\". MAPQ indicates the degree of confidence that a read is from the aligned point of origin. *The larger the gap between the best alignment score and the second-best alignment score, the higher its mapping quality will be, and the more unique the alignment is.* MAPQ=10 --> at least a 1 in 10 chance that read truly originated elsewhere. \n",
    "\n",
    "Raw bam files located at: <br>\n",
    "/home/jingyaq/Minn/data/B16_R499_Stat1KO_ATAC/data/bam\n",
    "\n",
    "**Alignment summaries:**\n",
    "- /home/jingyaq/Minn/data/B16_R499_Stat1KO_ATAC/data/bam/bowtie2_logs/error*\n",
    "- Overall mapping rate: 99%\n",
    "- Across all samples, 40-45% reads were concordantly mapped 1x. \n",
    "- 50-55% reads were concordantly multi-mapped - these must be removed for TE analysis with MAPQ threshold filter**\n",
    "__________________________________________\n",
    "\n",
    "Need to figure out how squire handles this. He et al. 2019 assigned multimapped reads to only one region. If we do this then cannot analyze individual TE loci."
   ]
  },
  {
   "cell_type": "code",
   "execution_count": null,
   "metadata": {},
   "outputs": [],
   "source": [
    "module load bowtie2/2.3.4.1\n",
    "\n",
    "python /home/jingyaq/Minn/data/B16_R499_Stat1KO_ATAC/scripts/mRFAR_v7/v1/bowtie2_TE_jobScripts.py\n",
    "# python ~/Dropbox/Minn/B16_R499_Stat1KO_ATAC/processing_scripts/bowtie2_TE_jobScripts.py\n",
    "\n",
    "mv output_logs/bowtie2/*.err /home/jingyaq/Minn/data/B16_R499_Stat1KO_ATAC/data/bam/bowtie2_logs/\n",
    "\n",
    "cd /home/jingyaq/Minn/data/B16_R499_Stat1KO_ATAC/data/bam/bowtie2_logs/\n",
    "for file in *;  do echo $file;  grep \"overall\" $file; done\n",
    "for file in *;  do echo $file;  grep \"concordantly exactly 1\" $file; done\n",
    "for file in *;  do echo $file;  grep \"concordantly >1 times\" $file; done"
   ]
  },
  {
   "cell_type": "code",
   "execution_count": null,
   "metadata": {},
   "outputs": [],
   "source": [
    "# Number of mapped reads #\n",
    "\n",
    "# for file in *.bam;  do samtools view -c $file; done\n",
    "for file in *.bam;  do echo $file;  samtools idxstats $file | awk '{s+=$3+$4} END {print s}'; done\n",
    "\n",
    "# Check flagstats\n",
    "for file in *.bam;  do samtools flagstat $file; done"
   ]
  },
  {
   "cell_type": "markdown",
   "metadata": {},
   "source": [
    "### Filter bam files\n",
    "\n",
    "#### Retain only properly paired, unique reads\n",
    "\n",
    "Remove: <br>\n",
    "1. unmapped reads (-F 1804) <br>\n",
    "2. reads that are not properly paired (-f 2) <br>\n",
    "3. likely multi-mapped reads (-q 5)"
   ]
  },
  {
   "cell_type": "code",
   "execution_count": null,
   "metadata": {},
   "outputs": [],
   "source": [
    "# -f 2 Only output alignments \"mapped in proper pairs\"\n",
    "# -F 1804 Do not output any alignments that are \"unmapped\", \"mate unmapped\", \"not primary alignment\", \"read fails platform/vendor quality checks\", \"read is PCR or optical duplicate\"\n",
    "# -q 5 Filter out reads with MAPQ < 5\n",
    "\n",
    "cd /home/jingyaq/Minn/data/B16_R499_Stat1KO_ATAC/data/bam\n",
    "for file in *bam;  do echo $file;  samtools view -h -F 1804 -f 2 -q 5 -b $file > filtered/$file; done"
   ]
  },
  {
   "cell_type": "code",
   "execution_count": null,
   "metadata": {},
   "outputs": [],
   "source": [
    "### Filter RNA bam files ###\n",
    "\n",
    "cd /home/jingyaq/Minn/data/B16_R499_Stat1KO_RNA/squire/aligned\n",
    "for dir in *;  do echo $dir;  samtools view -h -F 1804 -f 2 -q 5 -b $dir/$dir.bam > filtered/$dir.bam; done"
   ]
  },
  {
   "cell_type": "markdown",
   "metadata": {},
   "source": [
    "#### Mark and remove PCR duplicates"
   ]
  },
  {
   "cell_type": "code",
   "execution_count": null,
   "metadata": {},
   "outputs": [],
   "source": [
    "module load java/openjdk-1.8.0\n",
    "\n",
    "cd /home/jingyaq/Minn/data/B16_R499_Stat1KO_ATAC/data/bam/filtered/\n",
    "python /home/jingyaq/Minn/data/B16_R499_Stat1KO_ATAC/scripts/markDuplicates_jobScripts.py\n",
    "rm *.out *.err"
   ]
  },
  {
   "cell_type": "markdown",
   "metadata": {},
   "source": [
    "#### Remove mitochondrial reads\n",
    "\n",
    "**Check if name is \"chrM\" or \"MT\"!!**"
   ]
  },
  {
   "cell_type": "code",
   "execution_count": null,
   "metadata": {},
   "outputs": [],
   "source": [
    "python /home/jingyaq/Minn/data/B16_R499_Stat1KO_ATAC/scripts/remove_chrM_jobScripts.py MT\n",
    "rm *.out *.err\n",
    "\n",
    "# Index bam files #\n",
    "python /home/jingyaq/Minn/data/B16_R499_Stat1KO_ATAC/scripts/bamIndex_jobScripts.py"
   ]
  },
  {
   "cell_type": "markdown",
   "metadata": {},
   "source": [
    "### tn5 shift"
   ]
  },
  {
   "cell_type": "code",
   "execution_count": null,
   "metadata": {},
   "outputs": [],
   "source": [
    "export PATH=\"/home/jingyaq/anaconda2/bin:$PATH\"\n",
    "python /home/jingyaq/Minn/data/B16_R499_Stat1KO_ATAC/scripts/tn5shift_jobScripts.py\n",
    "rm *.err *.out\n",
    "\n",
    "# Sort and index output bam files #\n",
    "cd /home/jingyaq/Minn/data/B16_R499_Stat1KO_ATAC/data/bam/filtered/deduped/noChrM/tn5shift\n",
    "python /home/jingyaq/Minn/data/B16_R499_Stat1KO_ATAC/scripts/sort_bam.py \n",
    "python /home/jingyaq/Minn/data/B16_R499_Stat1KO_ATAC/scripts/bamIndex_jobScripts.py\n",
    "\n",
    "rm output* error* *_tn5.bam"
   ]
  },
  {
   "cell_type": "markdown",
   "metadata": {},
   "source": [
    "### Convert to bigwigs"
   ]
  },
  {
   "cell_type": "code",
   "execution_count": null,
   "metadata": {},
   "outputs": [],
   "source": [
    "export PATH=\"/home/jingyaq/anaconda2/bin:$PATH\"\n",
    "python /home/jingyaq//Minn/data/B16_R499_Stat1KO_ATAC/scripts/bam_to_bigwig_jobScripts.py\n",
    "rm output* error*"
   ]
  },
  {
   "cell_type": "markdown",
   "metadata": {},
   "source": [
    "### Merge bam files"
   ]
  },
  {
   "cell_type": "code",
   "execution_count": null,
   "metadata": {},
   "outputs": [],
   "source": [
    "cd /home/jingyaq/Minn/data/B16_R499_Stat1KO_ATAC/data/bam/filtered/deduped/noChrM/tn5shift\n",
    "\n",
    "bsub -M 140000 -o B16_cas_merge.out -e B16_cas_merge.err samtools merge merged/B16_cas.sorted_dedup_noChrM_tn5_sorted.bam B16_cas_*.bam\n",
    "\n",
    "bsub -M 140000 -o B16_SKO_merge.out -e B16_SKO_merge.err samtools merge merged/B16_SKO.sorted_dedup_noChrM_tn5_sorted.bam B16_SKO_*.bam\n",
    "\n",
    "bsub -M 140000 -o R499_cas_merge.out -e R499_cas_merge.err samtools merge merged/R499_cas.sorted_dedup_noChrM_tn5_sorted.bam R499_cas_*.bam\n",
    "\n",
    "bsub -M 140000 -o R499_SKO_merge.out -e R499_SKO_merge.err samtools merge merged/R499_SKO.sorted_dedup_noChrM_tn5_sorted.bam R499_SKO_*.bam\n",
    "\n",
    "rm *.out *.err\n",
    "\n",
    "# Index bam files\n",
    "python /home/jingyaq/Minn/data/B16_R499_Stat1KO_ATAC/scripts/bamIndex_jobScripts.py\n",
    "\n",
    "# Convert to bigwig\n",
    "python /home/jingyaq//Minn/data/B16_R499_Stat1KO_ATAC/scripts/bam_to_bigwig_jobScripts.py"
   ]
  },
  {
   "cell_type": "code",
   "execution_count": null,
   "metadata": {},
   "outputs": [],
   "source": [
    "### Merge RNA bam files ###\n",
    "\n",
    "cd /home/jingyaq/Minn/data/B16_R499_Stat1KO_RNA/squire/aligned/filtered\n",
    "\n",
    "bsub -M 140000 -o B16_cas_merge.out -e B16_cas_merge.err samtools merge merged/B16_cas_sorted.bam B16_cas_*.bam\n",
    "\n",
    "bsub -M 140000 -o B16_SKO_merge.out -e B16_SKO_merge.err samtools merge merged/B16_SKO_sorted.bam B16_SKO_*.bam\n",
    "\n",
    "bsub -M 140000 -o R499_cas_merge.out -e R499_cas_merge.err samtools merge merged/R499_cas_sorted.bam R499_cas_*.bam\n",
    "\n",
    "bsub -M 140000 -o R499_SKO_merge.out -e R499_SKO_merge.err samtools merge merged/R499_SKO_sorted.bam R499_SKO_*.bam\n",
    "\n",
    "rm *.out *.err\n",
    "\n",
    "# Index bam files\n",
    "python /home/jingyaq/Minn/data/B16_R499_Stat1KO_ATAC/scripts/bamIndex_jobScripts.py\n",
    "\n",
    "# Convert to bigwig\n",
    "export PATH=\"/home/jingyaq/anaconda2/bin:$PATH\"\n",
    "python /home/jingyaq//Minn/data/B16_R499_Stat1KO_ATAC/scripts/bam_to_bigwig_jobScripts.py"
   ]
  },
  {
   "cell_type": "markdown",
   "metadata": {},
   "source": [
    "### Final read counts"
   ]
  },
  {
   "cell_type": "raw",
   "metadata": {},
   "source": [
    "**Individual bam files**\n",
    "\n",
    "| ------ | ----| ------ | ------- | ------ |\n",
    "| Sample | RAW | Proper | Deduped | noChrM |\n",
    "| ------ | ----| ------ | ------- | ------ |\n",
    "| B16_1 | 104,967,072 | 71,831,820 | 13,960,146 | 10,622,748 |\n",
    "| B16_2 | 107,857,452 | 74,277,860 | 15,272,124 | 11,849,096 |\n",
    "| B16_3 | 147,729,314 | 101,467,670 | 16,531,186 | 12,918,644 |\n",
    "| B16_4 | 105,747,860 | 72,334,756 | 13,371,364 | 10,196,810 |\n",
    "| B16_5 | 98,426,476 | 68,362,106 | 16,778,074 | 13,582,636 |\n",
    "| B16_SKO_1 | 82,116,668 | 56,392,622 | 12,389,218 | 9,216,768 |\n",
    "| B16_SKO_2 | 113,849,186 | 77,817,316 | 14,558,910 | 11,008,424 |\n",
    "| B16_SKO_3 | 79,804,640 | 55,940,344 | 16,972,274 | 13,909,572 |\n",
    "| B16_SKO_4 | 106,507,728 | 72,592,028 | 12,850,394 | 9,343,376 |\n",
    "| B16_SKO_5 | 118,256,460 | 79,953,604 | 14,023,498 | 10,403,500 |\n",
    "| R499_1 | 113,660,776 | 79,111,874 | 19,881,728 | 16,731,354 |\n",
    "| R499_2 | 168,364,338 | 116,187,714 | 25,917,056 | 22,347,542 |\n",
    "| R499_3 | 113,802,342 | 78,808,504 | 20,482,396 | 17,394,572 |\n",
    "| R499_4 | 93,382,536 | 64,397,510 | 15,824,118 | 12,802,902 |\n",
    "| R499_5 | 128,736,068 | 89,951,944 | 24,590,140 | 21,398,304 |\n",
    "| R499_SKO_1 | 129,674,674 | 89,610,576 | 20,376,398 | 16,967,294 |\n",
    "| R499_SKO_2 | 122,474,936 | 84,905,934 | 20,323,696 | 17,001,866 |\n",
    "| R499_SKO_3 | 125,930,282 | 87,037,110 | 19,992,000 | 16,595,076 |\n",
    "| R499_SKO_4 | 111,234,200 | 77,394,760 | 19,133,242 | 15,876,238 |\n",
    "| R499_SKO_5 | 105,525,374 | 73,079,354 | 18,056,086 | 14,875,482 |\n",
    "\n",
    "**Merged bam files**\n",
    "\n",
    "| ------ | ---------------- |\n",
    "| Sample | Final read count |\n",
    "| ------ | ---------------- |\n",
    "| B16 | 59,169,934 |\n",
    "| B16_SKO | 53,881,640 |\n",
    "| R499 | 90,674,674 |\n",
    "| R499_SKO | 81,315,956 |"
   ]
  },
  {
   "cell_type": "markdown",
   "metadata": {},
   "source": [
    "### Plot TE coverage with unique read bam files"
   ]
  },
  {
   "cell_type": "code",
   "execution_count": null,
   "metadata": {},
   "outputs": [],
   "source": [
    "### Deeptools to generate coverage profiles ###\n",
    "\n",
    "# export PATH=\"/home/jingyaq/anaconda2/bin:$PATH\"\n",
    "# version 3.1.3\n",
    "\n",
    "# TE.DE_regions_byLocus_R499UP.bed\n",
    "# TE.DE_regions_byLocus_R499DOWN.bed\n",
    "# TE.DE_regions_byLocus_R499UP_3UTR.bed\n",
    "# TE.DE_regions_byLocus_R499DOWN_3UTR.bed\n",
    "# TE_regions_byLocus_RANDOM1.bed\n",
    "# TE_regions_byLocus_RANDOM2.bed\n",
    "\n",
    "computeMatrix reference-point -S /home/jingyaq/Minn/data/B16_R499_Stat1KO_ATAC/ENCODE_processed/bigwig/tn5/v1/B16_cas.R1.trim_pooled.PE2SE.nodup_noChrM_tn5_sorted_merged.bw /home/jingyaq/Minn/data/B16_R499_Stat1KO_ATAC/ENCODE_processed/bigwig/tn5/v1/B16_SKO.R1.trim_pooled.PE2SE.nodup_noChrM_tn5_sorted_merged.bw /home/jingyaq/Minn/data/B16_R499_Stat1KO_ATAC/ENCODE_processed/bigwig/tn5/v1/R499_cas.R1.trim_pooled.PE2SE.nodup_noChrM_tn5_sorted_merged.bw /home/jingyaq/Minn/data/B16_R499_Stat1KO_ATAC/ENCODE_processed/bigwig/tn5/v1/R499_SKO.R1.trim_pooled.PE2SE.nodup_noChrM_tn5_sorted_merged.bw -R /home/jingyaq/Minn/data/B16_R499_Stat1KO_RNA/squire/TE_DE_regions/TE.DE_regions_byLocus_R499UP.bed --referencePoint center --upstream 2500 --downstream 2500 --binSize 1 --skipZeros -p 12 -o  /home/jingyaq/Minn/data/B16_R499_Stat1KO_ATAC/ENCODE_processed/mRFAR_v7/deeptools/squire_TE/computeMatrix/TE.DE_regions_byLocus_R499UP_computeMatrix.gz"
   ]
  },
  {
   "cell_type": "code",
   "execution_count": null,
   "metadata": {},
   "outputs": [],
   "source": [
    "python /home/jingyaq/Minn/data/B16_R499_Stat1KO_ATAC/scripts/mRFAR_v7/v1/computeMatrix_TE_DE_jobScripts.py\n",
    "# python /Users/jingyaqiu/Dropbox/Minn/B16_R499_Stat1KO_ATAC/analysis_scripts/computeMatrix_TE_DE_jobScripts.py"
   ]
  },
  {
   "cell_type": "markdown",
   "metadata": {},
   "source": [
    "#### Plot heatmaps/profiles"
   ]
  },
  {
   "cell_type": "code",
   "execution_count": null,
   "metadata": {},
   "outputs": [],
   "source": [
    "plotHeatmap -m /home/jingyaq/Minn/data/B16_R499_Stat1KO_ATAC/ENCODE_processed/mRFAR_v7/deeptools/squire_TE/computeMatrix/TE.DE_regions_byLocus_R499DOWN_3UTR_computeMatrix.gz -out /home/jingyaq/Minn/data/B16_R499_Stat1KO_ATAC/ENCODE_processed/mRFAR_v7/deeptools/squire_TE/hm/TE.DE_regions_byLocus_R499DOWN_3UTR_heatmap.pdf --colorMap RdBu_r --regionsLabel \"R499DOWN 3' UTR TE loci\" --samplesLabel \"B16 cas\" \"B16 SKO\" \"R499 cas\" \"R499 SKO\" --heatmapHeight 14 --refPointLabel \"peak center\" --xAxisLabel \"(bp)\" --legendLocation \"none\" --plotFileFormat pdf --zMax 16\n",
    "\n",
    "plotHeatmap -m /home/jingyaq/Minn/data/B16_R499_Stat1KO_ATAC/ENCODE_processed/mRFAR_v7/deeptools/squire_TE/computeMatrix/TE.DE_regions_byLocus_R499UP_3UTR_computeMatrix.gz -out /home/jingyaq/Minn/data/B16_R499_Stat1KO_ATAC/ENCODE_processed/mRFAR_v7/deeptools/squire_TE/hm/TE.DE_regions_byLocus_R499UP_3UTR_heatmap.pdf --colorMap RdBu_r --regionsLabel \"R499UP 3' UTR TE loci\" --samplesLabel \"B16 cas\" \"B16 SKO\" \"R499 cas\" \"R499 SKO\" --heatmapHeight 14 --refPointLabel \"peak center\" --xAxisLabel \"(bp)\" --legendLocation \"none\" --plotFileFormat pdf --zMax 16\n",
    "\n",
    "plotHeatmap -m /home/jingyaq/Minn/data/B16_R499_Stat1KO_ATAC/ENCODE_processed/mRFAR_v7/deeptools/squire_TE/computeMatrix/TE.DE_regions_byLocus_R499DOWN_computeMatrix.gz -out /home/jingyaq/Minn/data/B16_R499_Stat1KO_ATAC/ENCODE_processed/mRFAR_v7/deeptools/squire_TE/hm/TE.DE_regions_byLocus_R499DOWN_heatmap.pdf --colorMap RdBu_r --regionsLabel \"R499DOWN TE loci\" --samplesLabel \"B16 cas\" \"B16 SKO\" \"R499 cas\" \"R499 SKO\" --heatmapHeight 14 --refPointLabel \"peak center\" --xAxisLabel \"(bp)\" --legendLocation \"none\" --plotFileFormat pdf --zMax 16\n",
    "\n",
    "plotHeatmap -m /home/jingyaq/Minn/data/B16_R499_Stat1KO_ATAC/ENCODE_processed/mRFAR_v7/deeptools/squire_TE/computeMatrix/TE.DE_regions_byLocus_R499UP_computeMatrix.gz -out /home/jingyaq/Minn/data/B16_R499_Stat1KO_ATAC/ENCODE_processed/mRFAR_v7/deeptools/squire_TE/hm/TE.DE_regions_byLocus_R499UP_heatmap.pdf --colorMap RdBu_r --regionsLabel \"R499UP TE loci\" --samplesLabel \"B16 cas\" \"B16 SKO\" \"R499 cas\" \"R499 SKO\" --heatmapHeight 14 --refPointLabel \"peak center\" --xAxisLabel \"(bp)\" --legendLocation \"none\" --plotFileFormat pdf --zMax 16\n",
    "\n",
    "plotHeatmap -m /home/jingyaq/Minn/data/B16_R499_Stat1KO_ATAC/ENCODE_processed/mRFAR_v7/deeptools/squire_TE/computeMatrix/TE_regions_byLocus_RANDOM1_computeMatrix.gz -out /home/jingyaq/Minn/data/B16_R499_Stat1KO_ATAC/ENCODE_processed/mRFAR_v7/deeptools/squire_TE/hm/TE_regions_byLocus_RANDOM1_heatmap.pdf --colorMap RdBu_r --regionsLabel \"RANDOM1 TE loci\" --samplesLabel \"B16 cas\" \"B16 SKO\" \"R499 cas\" \"R499 SKO\" --heatmapHeight 14 --refPointLabel \"peak center\" --xAxisLabel \"(bp)\" --legendLocation \"none\" --plotFileFormat pdf --zMax 16\n",
    "\n",
    "plotHeatmap -m /home/jingyaq/Minn/data/B16_R499_Stat1KO_ATAC/ENCODE_processed/mRFAR_v7/deeptools/squire_TE/computeMatrix/TE_regions_byLocus_RANDOM2_computeMatrix.gz -out /home/jingyaq/Minn/data/B16_R499_Stat1KO_ATAC/ENCODE_processed/mRFAR_v7/deeptools/squire_TE/hm/TE_regions_byLocus_RANDOM2_heatmap.pdf --colorMap RdBu_r --regionsLabel \"RANDOM2 TE loci\" --samplesLabel \"B16 cas\" \"B16 SKO\" \"R499 cas\" \"R499 SKO\" --heatmapHeight 14 --refPointLabel \"peak center\" --xAxisLabel \"(bp)\" --legendLocation \"none\" --plotFileFormat pdf --zMax 16"
   ]
  },
  {
   "cell_type": "markdown",
   "metadata": {},
   "source": [
    "### Peak calling"
   ]
  },
  {
   "cell_type": "code",
   "execution_count": null,
   "metadata": {},
   "outputs": [],
   "source": [
    "export PATH=\"/home/jingyaq/anaconda2/bin:$PATH\"\n",
    "\n",
    "python /home/jingyaq/Minn/data/B16_R499_Stat1KO_ATAC/scripts/mRFAR_v7/v1/macs2_TE_jobScripts.py\n",
    "python /home/jingyaq/Minn/data/B16_R499_Stat1KO_ATAC/scripts/mRFAR_v7/v1/macs2_TE_merged_jobScripts.py"
   ]
  },
  {
   "cell_type": "code",
   "execution_count": null,
   "metadata": {},
   "outputs": [],
   "source": [
    "cd /home/jingyaq/Minn/data/B16_R499_Stat1KO_ATAC/data/peaks\n",
    "for dir in *;  do cp $dir/*.narrowPeak narrowPeaks; done\n",
    "for dir in merged/*;  do cp $dir/*.narrowPeak narrowPeaks/; done\n",
    "\n",
    "# R #\n",
    "cd /home/jingyaq/Minn/data/B16_R499_Stat1KO_ATAC/data/peaks/narrowPeaks\n",
    "\n",
    "# Add \"chr\" to chromosome names\n",
    "files <- list.files(\"/home/jingyaq/Minn/data/B16_R499_Stat1KO_ATAC/data/peaks/narrowPeaks\")\n",
    "lapply(1:length(files), function(x) {\n",
    "    print(files[x])\n",
    "    df <- read.table(files[x], sep=\"\\t\", stringsAsFactors=F, header=F)\n",
    "    df$V1 <- paste0(\"chr\", df$V1)\n",
    "    write.table(df, file=files[x], sep=\"\\t\", row.names=F, col.names=F, quote=F)\n",
    "})"
   ]
  },
  {
   "cell_type": "markdown",
   "metadata": {},
   "source": [
    "### Blacklist filter\n",
    "\n",
    "Might be optimal to filter blacklist reads before peak calling (I think ENCODE recommends this). But seems like it isn't a huge improvement over simply filtering out peaks in blacklist regions. https://www.biostars.org/p/184537/"
   ]
  },
  {
   "cell_type": "code",
   "execution_count": null,
   "metadata": {},
   "outputs": [],
   "source": [
    "cd /home/jingyaq/Minn/data/epi_ATAC/ATAC/peaks/narrowPeaks\n",
    "\n",
    "for file in *.narrowPeak;  do echo $file;  bedtools intersect -v -a $file -b /home/jingyaq/Minn/data/B16_R499_Stat1KO_ATAC/resources/mm10.blacklist.bed > filt/$file.filt; done"
   ]
  },
  {
   "cell_type": "code",
   "execution_count": null,
   "metadata": {},
   "outputs": [],
   "source": []
  },
  {
   "cell_type": "code",
   "execution_count": null,
   "metadata": {},
   "outputs": [],
   "source": []
  },
  {
   "cell_type": "code",
   "execution_count": null,
   "metadata": {},
   "outputs": [],
   "source": []
  },
  {
   "cell_type": "markdown",
   "metadata": {},
   "source": [
    "### Make consensus peakset\n",
    "\n",
    "1. Replicate - peak present in both replicates (minOverlap=2)\n",
    "2. IDR - reproducible peaks identified by IDR statistical procedure\n",
    "\n",
    "Combine replicate or IDR peaks to get non-overlapping set for each condition. Write out original peakset and fixed-width peakset. ChromVAR reduces peaks to non-overlapping set based on which peak has stronger signal [did not use chromVAR!]\n",
    "\n",
    "#### Use replicate peaks"
   ]
  },
  {
   "cell_type": "code",
   "execution_count": null,
   "metadata": {},
   "outputs": [],
   "source": [
    "rm(list=ls())\n",
    "\n",
    "library(DiffBind)\n",
    "library(rtracklayer)\n",
    "library(GenomicRanges)\n",
    "library(SummarizedExperiment)\n",
    "\n",
    "dir.path <- \"/home/jingyaq/Minn/data/B16_R499_Stat1KO_ATAC/\"\n",
    "\n",
    "conditions <- c(\"B16_cas\", \"B16_SKO\", \"R499_cas\", \"R499_SKO\")\n",
    "\n",
    "bamfiles <- list.files(\"/home/jingyaq/Minn/data/B16_R499_Stat1KO_ATAC/data/bam/filtered/deduped/noChrM/tn5shift\", pattern=\"bam$\", full.names=F)\n",
    "sampleID <- sapply(strsplit(bamfiles, split=\"\\\\.\"), function(x) x[[1]])\n",
    "Condition <- sapply(strsplit(sampleID, split=\"_\"), function(x) paste(x[1:2], collapse=\"_\"))\n",
    "Replicate <- rep(1:5, 4)\n",
    "                    \n",
    "bamReads <- paste0(\"/home/jingyaq/Minn/data/B16_R499_Stat1KO_ATAC/data/bam/filtered/deduped/noChrM/tn5shift/\", bamfiles)\n",
    "Peaks <- unlist(lapply(sampleID, function(x) paste0(dir.path, \"data/peaks/narrowPeaks/filt/\", x, \"_peaks.narrowPeak.filt\")))\n",
    "PeakCaller <- rep(\"narrow\", length(sampleID))\n",
    "ss <- data.frame(sampleID, Condition, Replicate, bamReads, Peaks, PeakCaller)\n",
    "                       \n",
    "# Load in individual sample sheet\n",
    "db <- dba(sampleSheet=ss)\n",
    "\n",
    "# Get replicate peaks based on naive overlaps (n=2), condition-specific\n",
    "db.replicate_peaks <- dba.peakset(db, consensus=DBA_CONDITION, minOverlap=2)\n",
    "db.consensus <- dba(db.replicate_peaks, mask=db.replicate_peaks$masks$Consensus, minOverlap=1)\n",
    "\n",
    "# Write out replicate peaks for each condition\n",
    "lapply(1:length(conditions), function(x) {\n",
    "    print(conditions[x])\n",
    "    idx <- which(names(db.consensus$masks) == conditions[x])\n",
    "    db.cond <- dba(db.consensus, mask=db.consensus$masks[[idx]], minOverlap=1)\n",
    "    rep_peaks <- dba.peakset(db.cond, bRetrieve=TRUE)\n",
    "    write.table(data.frame(rep_peaks)[,1:3], file=paste0(dir.path, \"data/peaks/consensus/\", conditions[x], \"_replicate_peaks.bed\"), quote=F, sep=\"\\t\", col.names=F, row.names=F)\n",
    "})\n",
    "\n",
    "# Consensus peakset (combine replicate peaks from each condition)\n",
    "consensus_peaks <- dba.peakset(db.consensus, bRetrieve=TRUE)\n",
    "write.table(data.frame(consensus_peaks)[,1:3], file=paste0(dir.path, \"data/peaks/consensus/consensus_replicate_peaks.bed\"), quote=F, sep=\"\\t\", col.names=F, row.names=F)\n",
    "saveRDS(consensus_peaks, paste0(dir.path, \"data/peaks/consensus/consensus_replicate_peaks.rds\"))\n",
    "\n",
    "# Fixed-width peaks\n",
    "consensus_peaks_fixed <- resize(consensus_peaks, width=750, fix=\"center\")\n",
    "write.table(data.frame(consensus_peaks_fixed)[,1:3], file=paste0(dir.path, \"data/peaks/consensus/consensus_replicate_peaks_fixed750.bed\"), quote=F, sep=\"\\t\", col.names=F, row.names=F)\n",
    "saveRDS(consensus_peaks_fixed, paste0(dir.path, \"data/peaks/consensus/consensus_replicate_peaks_fixed750.rds\"))"
   ]
  }
 ],
 "metadata": {
  "kernelspec": {
   "display_name": "R",
   "language": "R",
   "name": "ir"
  },
  "language_info": {
   "codemirror_mode": "r",
   "file_extension": ".r",
   "mimetype": "text/x-r-source",
   "name": "R",
   "pygments_lexer": "r",
   "version": "3.6.1"
  }
 },
 "nbformat": 4,
 "nbformat_minor": 2
}
