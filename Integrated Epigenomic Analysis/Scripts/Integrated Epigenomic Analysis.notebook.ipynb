{
 "cells": [
  {
   "cell_type": "markdown",
   "metadata": {},
   "source": [
    "## Integrated Epigenomic Analysis\n",
    "\n",
    "*Last updated 02/05/22*\n",
    "\n",
    "**Datasets:**\n",
    "\n",
    "- RNA-seq\n",
    "- ATAC-seq\n",
    "- H3K27ac CUT&RUN\n",
    "- H3K4me1 CUT&RUN\n",
    "- H3K4me3 CUT&RUN"
   ]
  },
  {
   "cell_type": "markdown",
   "metadata": {},
   "source": [
    "### Processing\n",
    "\n",
    "Make normalized count matrices, call peaks, identify differentially expressed/accessible features"
   ]
  },
  {
   "cell_type": "code",
   "execution_count": null,
   "metadata": {},
   "outputs": [],
   "source": [
    "# RNA\n",
    "RNA processing/process_RNA.sh\n",
    "RNA processing/generate_RNA_count_matrix.R\n",
    "\n",
    "# ATAC (original)\n",
    "# ENCODE ATAC-seq pipeline\n",
    "ATAC processing/process_ATAC_bam.sh\n",
    "ATAC processing/generate_consensus_ATAC_matrix.R\n",
    "\n",
    "# ATAC (revisions)\n",
    "# ENCODE-DCC pipeline\n",
    "ATAC processing/process_ATAC_bam_ENCODE-DCC.sh\n",
    "ATAC processing/generate_consensus_ATAC_matrix_ENCODE-DCC.R\n",
    "\n",
    "# CUT&RUN (H3K27ac, H3K4me1, H3K4me3)\n",
    "# Peak calls for each condition were done with macs2 on merged bam files (--broad, --broad-cutoff 1e-05)\n",
    "# Consensus peaksets are combined broad peak calls from B16 and Res499 (no STAT1 KO peaks included). Removed peaks that overlap peak with a stronger signal.\n",
    "CUT&RUN processing/process_CnR.sh\n",
    "# CUT&RUN processing/peak_calling_CnR.sh\n",
    "CUT&RUN processing/merge_conditions.sh\n",
    "CUT&RUN processing/generate_consensus_count_matrix.R"
   ]
  },
  {
   "cell_type": "markdown",
   "metadata": {},
   "source": [
    "### Paired RNA/ATAC analysis"
   ]
  },
  {
   "cell_type": "code",
   "execution_count": null,
   "metadata": {},
   "outputs": [],
   "source": [
    "Paired RNA ATAC Analysis.R"
   ]
  },
  {
   "cell_type": "markdown",
   "metadata": {},
   "source": [
    "### Annotate REs\n",
    "\n",
    "1. Gained/lost TSS promoters (significant change in H3K4me3, overlapping TSS)\n",
    "2. Gained/lost other promoters (significant change H3K4me3, not overlapping TSS)\n",
    "3. Activated enhancers (significant increase in H3K27ac and/or ATAC, not overlapping TSS)\n",
    "4. Deactivated enhancers (significant decrease in H3K27ac and/or ATAC, not overlapping TSS)\n",
    "6. Constitutive REs (no change in H3K27ac, H3K4me1, H3K4me3, OR ATAC)"
   ]
  },
  {
   "cell_type": "code",
   "execution_count": null,
   "metadata": {},
   "outputs": [],
   "source": [
    "Annotate Regulatory Elements.R"
   ]
  }
 ],
 "metadata": {
  "kernelspec": {
   "display_name": "Python 3",
   "language": "python",
   "name": "python3"
  },
  "language_info": {
   "codemirror_mode": {
    "name": "ipython",
    "version": 3
   },
   "file_extension": ".py",
   "mimetype": "text/x-python",
   "name": "python",
   "nbconvert_exporter": "python",
   "pygments_lexer": "ipython3",
   "version": "3.7.4"
  }
 },
 "nbformat": 4,
 "nbformat_minor": 5
}
